{
 "cells": [
  {
   "cell_type": "markdown",
   "metadata": {},
   "source": [
    "$$\\Delta_k = \\lim_{y \\to \\infty} \\frac{1}{\\log y}\\sum_{\\substack{a\\leq y \\\\ 2 | a}} \\frac{a^{k-1}}{k! \\cdot s(a)^k} \\cdot \\text{e}^{-a/s(a)}$$"
   ]
  },
  {
   "cell_type": "code",
   "execution_count": 1,
   "metadata": {},
   "outputs": [
    {
     "name": "stdout",
     "output_type": "stream",
     "text": [
      "delta(0) = 0.16692317510345556\n",
      "delta(1) = 0.16633630447471112\n",
      "delta(2) = 0.09642269824053559\n",
      "delta(3) = 0.042845518133866514\n",
      "delta(4) = 0.01602651435994592\n",
      "delta(5) = 0.0052315668732633505\n",
      "delta(6) = 0.0015130642657458003\n",
      "delta(7) = 0.0003910094819754467\n"
     ]
    }
   ],
   "source": [
    "from math import factorial, exp, log\n",
    "from sympy import proper_divisors\n",
    "\n",
    "\n",
    "\n",
    "def delta_k(y, k_lim):\n",
    "    summations = [0 for x in range(k_lim)]\n",
    "    for k in range(0, k_lim):\n",
    "        for a in [2*x for x in range(1, (int) (y/2) + 1)]:\n",
    "            s_a = sum(proper_divisors(a))\n",
    "\n",
    "            frac = (a ** (k - 1)) / (factorial(k) * (s_a ** k))\n",
    "            e = exp(-a / s_a)\n",
    "\n",
    "            summations[k] = summations[k] + frac * e\n",
    "\n",
    "        summations[k] *= 1 / log(y)\n",
    "\n",
    "        print(\"delta(\" + str(k) + \") = \" + str(summations[k]))\n",
    "\n",
    "y = 1000000\n",
    "k_lim = 8\n",
    "\n",
    "delta_k(y, k_lim)"
   ]
  },
  {
   "cell_type": "markdown",
   "metadata": {},
   "source": [
    "$$A_y = \\text{ lcm}[1, 2, ..., y]$$"
   ]
  },
  {
   "cell_type": "code",
   "execution_count": 2,
   "metadata": {},
   "outputs": [],
   "source": [
    "from sympy import lcm\n",
    "\n",
    "def A_y(y):\n",
    "    return lcm(range(1, y + 1))"
   ]
  },
  {
   "cell_type": "markdown",
   "metadata": {},
   "source": [
    "$$\\Delta_k = \\lim_{y \\to \\infty} \\frac{\\phi(A_y)}{A_y} \\sum_{\\substack{a|A_y \\\\ 2 | a}} \\frac{a^{k-1}}{k! \\cdot s(a)^k} \\cdot \\text{e}^{-a/s(a)}$$"
   ]
  },
  {
   "cell_type": "code",
   "execution_count": 3,
   "metadata": {},
   "outputs": [
    {
     "name": "stdout",
     "output_type": "stream",
     "text": [
      "delta(0) = 0.0923749737536320\n",
      "delta(1) = 0.0931309681194738\n",
      "delta(2) = 0.0545220094086440\n",
      "delta(3) = 0.0244196704609431\n",
      "delta(4) = 0.00918991194094570\n",
      "delta(5) = 0.00301350176090420\n",
      "delta(6) = 0.000874501148188973\n",
      "delta(7) = 0.000226567505514321\n"
     ]
    }
   ],
   "source": [
    "from math import factorial, exp, log\n",
    "from sympy import proper_divisors, totient\n",
    "\n",
    "y = 100000\n",
    "k_lim = 8\n",
    "\n",
    "summations = [0 for x in range(k_lim)]\n",
    "for k in range(0, k_lim):\n",
    "    for a in [2*x for x in range(1, (int) (y/2) + 1)]:\n",
    "        s_a = sum(proper_divisors(a))\n",
    "\n",
    "        frac = (a ** (k - 1)) / (factorial(k) * (s_a ** k))\n",
    "        e = exp(-a / s_a)\n",
    "\n",
    "        summations[k] = summations[k] + frac * e\n",
    "\n",
    "    summations[k] *= totient(A_y(y)) / A_y(y)\n",
    "\n",
    "    print(\"delta(\" + str(k) + \") = \" + str(summations[k]))"
   ]
  }
 ],
 "metadata": {
  "interpreter": {
   "hash": "31f2aee4e71d21fbe5cf8b01ff0e069b9275f58929596ceb00d14d90e3e16cd6"
  },
  "kernelspec": {
   "display_name": "Python 3.8.10 64-bit",
   "language": "python",
   "name": "python3"
  },
  "language_info": {
   "codemirror_mode": {
    "name": "ipython",
    "version": 3
   },
   "file_extension": ".py",
   "mimetype": "text/x-python",
   "name": "python",
   "nbconvert_exporter": "python",
   "pygments_lexer": "ipython3",
   "version": "3.8.10"
  },
  "orig_nbformat": 4
 },
 "nbformat": 4,
 "nbformat_minor": 2
}
